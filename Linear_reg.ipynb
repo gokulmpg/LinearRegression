{
 "cells": [
  {
   "cell_type": "markdown",
   "id": "33b6ef07",
   "metadata": {},
   "source": [
    "# DATA  INTELLIGENCE - \n",
    "\n",
    "TUTORIAL\n",
    "\n",
    "\n",
    "\n"
   ]
  },
  {
   "cell_type": "code",
   "execution_count": 1,
   "id": "a36e644c",
   "metadata": {},
   "outputs": [],
   "source": [
    "import pandas as pd \n",
    "import numpy as np\n",
    "import matplotlib.pyplot as plt"
   ]
  },
  {
   "cell_type": "code",
   "execution_count": 2,
   "id": "6ba09358",
   "metadata": {
    "scrolled": true
   },
   "outputs": [
    {
     "name": "stdout",
     "output_type": "stream",
     "text": [
      "(200, 5)\n"
     ]
    }
   ],
   "source": [
    "df = pd.read_csv(\"Advertising.csv\")\n",
    "print(df.shape)"
   ]
  },
  {
   "cell_type": "code",
   "execution_count": 3,
   "id": "e9153fc6",
   "metadata": {},
   "outputs": [
    {
     "data": {
      "text/html": [
       "<div>\n",
       "<style scoped>\n",
       "    .dataframe tbody tr th:only-of-type {\n",
       "        vertical-align: middle;\n",
       "    }\n",
       "\n",
       "    .dataframe tbody tr th {\n",
       "        vertical-align: top;\n",
       "    }\n",
       "\n",
       "    .dataframe thead th {\n",
       "        text-align: right;\n",
       "    }\n",
       "</style>\n",
       "<table border=\"1\" class=\"dataframe\">\n",
       "  <thead>\n",
       "    <tr style=\"text-align: right;\">\n",
       "      <th></th>\n",
       "      <th>Unnamed: 0</th>\n",
       "      <th>TV</th>\n",
       "      <th>Radio</th>\n",
       "      <th>Newspaper</th>\n",
       "      <th>Sales</th>\n",
       "    </tr>\n",
       "  </thead>\n",
       "  <tbody>\n",
       "    <tr>\n",
       "      <th>0</th>\n",
       "      <td>1</td>\n",
       "      <td>230.1</td>\n",
       "      <td>37.8</td>\n",
       "      <td>69.2</td>\n",
       "      <td>22.1</td>\n",
       "    </tr>\n",
       "    <tr>\n",
       "      <th>1</th>\n",
       "      <td>2</td>\n",
       "      <td>44.5</td>\n",
       "      <td>39.3</td>\n",
       "      <td>45.1</td>\n",
       "      <td>10.4</td>\n",
       "    </tr>\n",
       "    <tr>\n",
       "      <th>2</th>\n",
       "      <td>3</td>\n",
       "      <td>17.2</td>\n",
       "      <td>45.9</td>\n",
       "      <td>69.3</td>\n",
       "      <td>9.3</td>\n",
       "    </tr>\n",
       "    <tr>\n",
       "      <th>3</th>\n",
       "      <td>4</td>\n",
       "      <td>151.5</td>\n",
       "      <td>41.3</td>\n",
       "      <td>58.5</td>\n",
       "      <td>18.5</td>\n",
       "    </tr>\n",
       "    <tr>\n",
       "      <th>4</th>\n",
       "      <td>5</td>\n",
       "      <td>180.8</td>\n",
       "      <td>10.8</td>\n",
       "      <td>58.4</td>\n",
       "      <td>12.9</td>\n",
       "    </tr>\n",
       "    <tr>\n",
       "      <th>...</th>\n",
       "      <td>...</td>\n",
       "      <td>...</td>\n",
       "      <td>...</td>\n",
       "      <td>...</td>\n",
       "      <td>...</td>\n",
       "    </tr>\n",
       "    <tr>\n",
       "      <th>195</th>\n",
       "      <td>196</td>\n",
       "      <td>38.2</td>\n",
       "      <td>3.7</td>\n",
       "      <td>13.8</td>\n",
       "      <td>7.6</td>\n",
       "    </tr>\n",
       "    <tr>\n",
       "      <th>196</th>\n",
       "      <td>197</td>\n",
       "      <td>94.2</td>\n",
       "      <td>4.9</td>\n",
       "      <td>8.1</td>\n",
       "      <td>9.7</td>\n",
       "    </tr>\n",
       "    <tr>\n",
       "      <th>197</th>\n",
       "      <td>198</td>\n",
       "      <td>177.0</td>\n",
       "      <td>9.3</td>\n",
       "      <td>6.4</td>\n",
       "      <td>12.8</td>\n",
       "    </tr>\n",
       "    <tr>\n",
       "      <th>198</th>\n",
       "      <td>199</td>\n",
       "      <td>283.6</td>\n",
       "      <td>42.0</td>\n",
       "      <td>66.2</td>\n",
       "      <td>25.5</td>\n",
       "    </tr>\n",
       "    <tr>\n",
       "      <th>199</th>\n",
       "      <td>200</td>\n",
       "      <td>232.1</td>\n",
       "      <td>8.6</td>\n",
       "      <td>8.7</td>\n",
       "      <td>13.4</td>\n",
       "    </tr>\n",
       "  </tbody>\n",
       "</table>\n",
       "<p>200 rows × 5 columns</p>\n",
       "</div>"
      ],
      "text/plain": [
       "     Unnamed: 0     TV  Radio  Newspaper  Sales\n",
       "0             1  230.1   37.8       69.2   22.1\n",
       "1             2   44.5   39.3       45.1   10.4\n",
       "2             3   17.2   45.9       69.3    9.3\n",
       "3             4  151.5   41.3       58.5   18.5\n",
       "4             5  180.8   10.8       58.4   12.9\n",
       "..          ...    ...    ...        ...    ...\n",
       "195         196   38.2    3.7       13.8    7.6\n",
       "196         197   94.2    4.9        8.1    9.7\n",
       "197         198  177.0    9.3        6.4   12.8\n",
       "198         199  283.6   42.0       66.2   25.5\n",
       "199         200  232.1    8.6        8.7   13.4\n",
       "\n",
       "[200 rows x 5 columns]"
      ]
     },
     "execution_count": 3,
     "metadata": {},
     "output_type": "execute_result"
    }
   ],
   "source": [
    "df\n"
   ]
  },
  {
   "cell_type": "code",
   "execution_count": 4,
   "id": "136fe4bd",
   "metadata": {},
   "outputs": [],
   "source": [
    "df = df.drop(columns=['Unnamed: 0'], axis=1)"
   ]
  },
  {
   "cell_type": "code",
   "execution_count": 5,
   "id": "81729271",
   "metadata": {
    "scrolled": true
   },
   "outputs": [
    {
     "data": {
      "text/html": [
       "<div>\n",
       "<style scoped>\n",
       "    .dataframe tbody tr th:only-of-type {\n",
       "        vertical-align: middle;\n",
       "    }\n",
       "\n",
       "    .dataframe tbody tr th {\n",
       "        vertical-align: top;\n",
       "    }\n",
       "\n",
       "    .dataframe thead th {\n",
       "        text-align: right;\n",
       "    }\n",
       "</style>\n",
       "<table border=\"1\" class=\"dataframe\">\n",
       "  <thead>\n",
       "    <tr style=\"text-align: right;\">\n",
       "      <th></th>\n",
       "      <th>TV</th>\n",
       "      <th>Radio</th>\n",
       "      <th>Newspaper</th>\n",
       "      <th>Sales</th>\n",
       "    </tr>\n",
       "  </thead>\n",
       "  <tbody>\n",
       "    <tr>\n",
       "      <th>0</th>\n",
       "      <td>230.1</td>\n",
       "      <td>37.8</td>\n",
       "      <td>69.2</td>\n",
       "      <td>22.1</td>\n",
       "    </tr>\n",
       "    <tr>\n",
       "      <th>1</th>\n",
       "      <td>44.5</td>\n",
       "      <td>39.3</td>\n",
       "      <td>45.1</td>\n",
       "      <td>10.4</td>\n",
       "    </tr>\n",
       "    <tr>\n",
       "      <th>2</th>\n",
       "      <td>17.2</td>\n",
       "      <td>45.9</td>\n",
       "      <td>69.3</td>\n",
       "      <td>9.3</td>\n",
       "    </tr>\n",
       "    <tr>\n",
       "      <th>3</th>\n",
       "      <td>151.5</td>\n",
       "      <td>41.3</td>\n",
       "      <td>58.5</td>\n",
       "      <td>18.5</td>\n",
       "    </tr>\n",
       "    <tr>\n",
       "      <th>4</th>\n",
       "      <td>180.8</td>\n",
       "      <td>10.8</td>\n",
       "      <td>58.4</td>\n",
       "      <td>12.9</td>\n",
       "    </tr>\n",
       "  </tbody>\n",
       "</table>\n",
       "</div>"
      ],
      "text/plain": [
       "      TV  Radio  Newspaper  Sales\n",
       "0  230.1   37.8       69.2   22.1\n",
       "1   44.5   39.3       45.1   10.4\n",
       "2   17.2   45.9       69.3    9.3\n",
       "3  151.5   41.3       58.5   18.5\n",
       "4  180.8   10.8       58.4   12.9"
      ]
     },
     "execution_count": 5,
     "metadata": {},
     "output_type": "execute_result"
    }
   ],
   "source": [
    "df.head()"
   ]
  },
  {
   "cell_type": "code",
   "execution_count": 6,
   "id": "6a505e50",
   "metadata": {},
   "outputs": [
    {
     "data": {
      "text/plain": [
       "TV           0\n",
       "Radio        0\n",
       "Newspaper    0\n",
       "Sales        0\n",
       "dtype: int64"
      ]
     },
     "execution_count": 6,
     "metadata": {},
     "output_type": "execute_result"
    }
   ],
   "source": [
    "df.isna().sum()"
   ]
  },
  {
   "cell_type": "code",
   "execution_count": 7,
   "id": "6efe5d69",
   "metadata": {},
   "outputs": [
    {
     "data": {
      "image/png": "[encoded data removed]",
      "text/plain": [
       "<Figure size 432x288 with 1 Axes>"
      ]
     },
     "metadata": {
      "needs_background": "light"
     },
     "output_type": "display_data"
    }
   ],
   "source": [
    "plt.plot(df)\n",
    "plt.show()"
   ]
  },
  {
   "cell_type": "markdown",
   "id": "2ba66d8c",
   "metadata": {},
   "source": [
    "1. Write R/ Python code to divide the given advertising dataset into train set (75 %) and test set \n",
    "(25%). (Consider Sales as dependent variable and TV, Radio, Newspaper as independent\n",
    "variables)\n"
   ]
  },
  {
   "cell_type": "code",
   "execution_count": 8,
   "id": "380c005b",
   "metadata": {},
   "outputs": [],
   "source": [
    "#Defining dependent and independent variable\n",
    "from sklearn.model_selection import train_test_split\n",
    "\n",
    "X=df.drop(['Sales'],axis=1)\n",
    "Y=df['Sales']"
   ]
  },
  {
   "cell_type": "code",
   "execution_count": 9,
   "id": "331dce01",
   "metadata": {},
   "outputs": [],
   "source": [
    "#splitting data into X and y\n",
    "X_train,X_test,y_train,y_test=train_test_split(X,Y,test_size=0.25)\n"
   ]
  },
  {
   "cell_type": "markdown",
   "id": "0a5e72e0",
   "metadata": {},
   "source": [
    "1. Write R/Python code to build a linear regression model using the training data and predict the \n",
    "values for the test data."
   ]
  },
  {
   "cell_type": "code",
   "execution_count": 10,
   "id": "998eb30a",
   "metadata": {
    "scrolled": true
   },
   "outputs": [],
   "source": [
    "from sklearn.linear_model import LinearRegression\n",
    "model1= LinearRegression()\n",
    "# training the model using fit\n",
    "model1.fit(X_train,y_train)\n",
    "# testing the model using predict\n",
    "pred=model1.predict(X_test)"
   ]
  },
  {
   "cell_type": "code",
   "execution_count": 11,
   "id": "2e543965",
   "metadata": {},
   "outputs": [
    {
     "name": "stdout",
     "output_type": "stream",
     "text": [
      "[15.00030749 22.80702574  6.64277089  8.7128123  17.56580093 17.07061317\n",
      " 23.62202565 12.4894707   8.83969401 19.2111063  21.17850572  7.84434611\n",
      " 24.77024426 17.28921159 10.6621726  12.39885165 18.64910329 19.90047836\n",
      " 19.22194658 15.16737759  6.15608927 16.34504272  7.45976517 12.38377941\n",
      " 12.07883008 14.22040922 15.4348837   9.58405199 16.11889892 12.71989216\n",
      " 20.4006429   4.50834938  6.46250694  9.72675144 14.18572114 18.21396136\n",
      " 13.01607725  7.96641842 10.63422773 20.90209803 14.65852944 12.82206284\n",
      " 15.1449614  13.31499436 18.38120957 11.71762002 13.9177899  16.25101995\n",
      "  6.11488693 17.49248291]\n"
     ]
    }
   ],
   "source": [
    "print(pred)"
   ]
  },
  {
   "cell_type": "code",
   "execution_count": 12,
   "id": "c811d29f",
   "metadata": {},
   "outputs": [
    {
     "name": "stdout",
     "output_type": "stream",
     "text": [
      "    index_1   TV_1  Radio_1  Newspaper_1  index_2  Sales_2\n",
      "0        85  193.2     18.4         65.7       85     15.2\n",
      "1        61  261.3     42.7         54.7       61     24.2\n",
      "2       127   80.2      0.0          9.2      127      8.8\n",
      "3       143  104.6      5.7         34.4      143     10.4\n",
      "4       102  280.2     10.1         21.4      102     14.8\n",
      "5        64  131.1     42.8         28.9       64     18.0\n",
      "6       198  283.6     42.0         66.2      198     25.5\n",
      "7         9  199.8      2.6         21.2        9     10.6\n",
      "8        46   89.7      9.9         35.7       46     10.6\n",
      "9       133  219.8     33.5         45.1      133     19.6\n",
      "10      111  241.7     38.0         23.2      111     21.8\n",
      "11      129   59.6     12.0         43.1      129      9.7\n",
      "12      175  276.9     48.9         41.8      175     27.0\n",
      "13       41  177.0     33.4         38.7       41     17.1\n",
      "14      130    0.7     39.6          8.7      130      1.6\n",
      "15        1   44.5     39.3         45.1        1     10.4\n",
      "16      188  286.0     13.9          3.7      188     15.9\n",
      "17       53  182.6     46.2         58.7       53     21.2\n",
      "18      142  220.5     33.2         37.9      142     20.1\n",
      "19      199  232.1      8.6          8.7      199     13.4\n",
      "20      106   25.0     11.0         29.7      106      7.2\n",
      "21       40  202.5     22.3         31.6       40     16.6\n",
      "22      170   50.0     11.6         18.4      170      8.4\n",
      "23      179  165.6     10.0         17.6      179     12.6\n",
      "24      177  170.2      7.8         35.2      177     11.7\n",
      "25       19  147.3     23.9         19.1       19     14.6\n",
      "26      118  125.7     36.9         79.2      118     15.9\n",
      "27      140   73.4     17.0         12.9      140     10.9\n",
      "28       48  227.2     15.8         49.9       48     14.8\n",
      "29      190   39.5     41.1          5.8      190     10.8\n",
      "30      104  238.2     34.3          5.3      104     20.7\n",
      "31       76   27.5      1.6         20.7       76      6.9\n",
      "32       22   13.2     15.9         49.6       22      5.6\n",
      "33      145  140.3      1.9          9.0      145     10.3\n",
      "34      160  172.5     18.1         30.7      160     14.4\n",
      "35       59  210.7     29.5          9.3       59     18.4\n",
      "36        4  180.8     10.8         58.4        4     12.9\n",
      "37       65   69.0      9.3          0.9       65      9.3\n",
      "38      126    7.8     38.9         50.6      126      6.6\n",
      "39      185  205.0     45.1         19.6      185     22.6\n",
      "40       21  237.4      5.1         23.5       21     12.5\n",
      "41      197  177.0      9.3          6.4      197     12.8\n",
      "42       45  175.1     22.5         31.5       45     14.9\n",
      "43      167  206.8      5.2         19.4      167     12.2\n",
      "44       14  204.1     32.9         46.0       14     19.0\n",
      "45       86   76.3     27.5         16.0       86     12.0\n",
      "46       77  120.5     28.5         14.2       77     14.2\n",
      "47       95  163.3     31.6         52.9       95     16.9\n",
      "48      189   18.7     12.1         23.4      189      6.7\n",
      "49      163  163.5     36.8          7.4      163     18.0\n"
     ]
    }
   ],
   "source": [
    "print (pd.concat([\n",
    "    X_test.reset_index().add_suffix('_1'),\n",
    "    y_test.reset_index().add_suffix('_2')\n",
    "  ], axis=1).fillna(''))"
   ]
  },
  {
   "cell_type": "code",
   "execution_count": 13,
   "id": "39fd4594",
   "metadata": {},
   "outputs": [
    {
     "data": {
      "text/plain": [
       "(array([15.00030749, 22.80702574,  6.64277089,  8.7128123 , 17.56580093,\n",
       "        17.07061317, 23.62202565, 12.4894707 ,  8.83969401, 19.2111063 ,\n",
       "        21.17850572,  7.84434611, 24.77024426, 17.28921159, 10.6621726 ,\n",
       "        12.39885165, 18.64910329, 19.90047836, 19.22194658, 15.16737759,\n",
       "         6.15608927, 16.34504272,  7.45976517, 12.38377941, 12.07883008,\n",
       "        14.22040922, 15.4348837 ,  9.58405199, 16.11889892, 12.71989216,\n",
       "        20.4006429 ,  4.50834938,  6.46250694,  9.72675144, 14.18572114,\n",
       "        18.21396136, 13.01607725,  7.96641842, 10.63422773, 20.90209803,\n",
       "        14.65852944, 12.82206284, 15.1449614 , 13.31499436, 18.38120957,\n",
       "        11.71762002, 13.9177899 , 16.25101995,  6.11488693, 17.49248291]),\n",
       " 85     15.2\n",
       " 61     24.2\n",
       " 127     8.8\n",
       " 143    10.4\n",
       " 102    14.8\n",
       " 64     18.0\n",
       " 198    25.5\n",
       " 9      10.6\n",
       " 46     10.6\n",
       " 133    19.6\n",
       " 111    21.8\n",
       " 129     9.7\n",
       " 175    27.0\n",
       " 41     17.1\n",
       " 130     1.6\n",
       " 1      10.4\n",
       " 188    15.9\n",
       " 53     21.2\n",
       " 142    20.1\n",
       " 199    13.4\n",
       " 106     7.2\n",
       " 40     16.6\n",
       " 170     8.4\n",
       " 179    12.6\n",
       " 177    11.7\n",
       " 19     14.6\n",
       " 118    15.9\n",
       " 140    10.9\n",
       " 48     14.8\n",
       " 190    10.8\n",
       " 104    20.7\n",
       " 76      6.9\n",
       " 22      5.6\n",
       " 145    10.3\n",
       " 160    14.4\n",
       " 59     18.4\n",
       " 4      12.9\n",
       " 65      9.3\n",
       " 126     6.6\n",
       " 185    22.6\n",
       " 21     12.5\n",
       " 197    12.8\n",
       " 45     14.9\n",
       " 167    12.2\n",
       " 14     19.0\n",
       " 86     12.0\n",
       " 77     14.2\n",
       " 95     16.9\n",
       " 189     6.7\n",
       " 163    18.0\n",
       " Name: Sales, dtype: float64)"
      ]
     },
     "execution_count": 13,
     "metadata": {},
     "output_type": "execute_result"
    }
   ],
   "source": [
    "pred,y_test\n"
   ]
  },
  {
   "cell_type": "code",
   "execution_count": 14,
   "id": "ca3dfa6b",
   "metadata": {
    "scrolled": false
   },
   "outputs": [
    {
     "data": {
      "text/plain": [
       "0.9049740903757306"
      ]
     },
     "execution_count": 14,
     "metadata": {},
     "output_type": "execute_result"
    }
   ],
   "source": [
    "model1.score(X_train,y_train)"
   ]
  },
  {
   "cell_type": "code",
   "execution_count": 15,
   "id": "38eb9ed2",
   "metadata": {},
   "outputs": [
    {
     "data": {
      "text/plain": [
       "0.874515828686841"
      ]
     },
     "execution_count": 15,
     "metadata": {},
     "output_type": "execute_result"
    }
   ],
   "source": [
    "model1.score(X_test,y_test)"
   ]
  },
  {
   "cell_type": "markdown",
   "id": "93859955",
   "metadata": {},
   "source": [
    "2. Calculate the accuracy of the model (both on train set and test set) using Mean Square Error \n",
    "(MSE)"
   ]
  },
  {
   "cell_type": "code",
   "execution_count": 16,
   "id": "7ca5b489",
   "metadata": {},
   "outputs": [
    {
     "name": "stdout",
     "output_type": "stream",
     "text": [
      "3.632456060707782\n"
     ]
    }
   ],
   "source": [
    "from sklearn.metrics import mean_squared_error\n",
    "mse = mean_squared_error(y_test,pred)\n",
    "print(mse)"
   ]
  },
  {
   "cell_type": "code",
   "execution_count": 17,
   "id": "f7a53228",
   "metadata": {},
   "outputs": [],
   "source": [
    "#model1.predict([[99,9,8],[8,9,8]])"
   ]
  },
  {
   "cell_type": "code",
   "execution_count": 18,
   "id": "47b08c67",
   "metadata": {},
   "outputs": [
    {
     "name": "stdout",
     "output_type": "stream",
     "text": [
      "2.514422565412313\n"
     ]
    }
   ],
   "source": [
    "predx=model1.predict(X_train)\n",
    "from sklearn.metrics import mean_squared_error\n",
    "mse = mean_squared_error(y_train,predx)\n",
    "print(mse)"
   ]
  },
  {
   "cell_type": "code",
   "execution_count": null,
   "id": "c9650b27",
   "metadata": {},
   "outputs": [],
   "source": []
  }
 ],
 "metadata": {
  "kernelspec": {
   "display_name": "Python 3",
   "language": "python",
   "name": "python3"
  },
  "language_info": {
   "codemirror_mode": {
    "name": "ipython",
    "version": 3
   },
   "file_extension": ".py",
   "mimetype": "text/x-python",
   "name": "python",
   "nbconvert_exporter": "python",
   "pygments_lexer": "ipython3",
   "version": "3.8.8"
  }
 },
 "nbformat": 4,
 "nbformat_minor": 5
}
